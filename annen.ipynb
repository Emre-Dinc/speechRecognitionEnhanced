{
 "cells": [
  {
   "cell_type": "code",
   "execution_count": 1,
   "metadata": {
    "collapsed": true
   },
   "outputs": [
    {
     "data": {
      "text/plain": "   ClassId            TR               EN\n0        0          abla           sister\n1        1         acele            hurry\n2        2       acýkmak           hungry\n3        3  afiyet_olsun  enjoy_your_meal\n4        4        aðabey          brother",
      "text/html": "<div>\n<style scoped>\n    .dataframe tbody tr th:only-of-type {\n        vertical-align: middle;\n    }\n\n    .dataframe tbody tr th {\n        vertical-align: top;\n    }\n\n    .dataframe thead th {\n        text-align: right;\n    }\n</style>\n<table border=\"1\" class=\"dataframe\">\n  <thead>\n    <tr style=\"text-align: right;\">\n      <th></th>\n      <th>ClassId</th>\n      <th>TR</th>\n      <th>EN</th>\n    </tr>\n  </thead>\n  <tbody>\n    <tr>\n      <th>0</th>\n      <td>0</td>\n      <td>abla</td>\n      <td>sister</td>\n    </tr>\n    <tr>\n      <th>1</th>\n      <td>1</td>\n      <td>acele</td>\n      <td>hurry</td>\n    </tr>\n    <tr>\n      <th>2</th>\n      <td>2</td>\n      <td>acýkmak</td>\n      <td>hungry</td>\n    </tr>\n    <tr>\n      <th>3</th>\n      <td>3</td>\n      <td>afiyet_olsun</td>\n      <td>enjoy_your_meal</td>\n    </tr>\n    <tr>\n      <th>4</th>\n      <td>4</td>\n      <td>aðabey</td>\n      <td>brother</td>\n    </tr>\n  </tbody>\n</table>\n</div>"
     },
     "execution_count": 1,
     "metadata": {},
     "output_type": "execute_result"
    }
   ],
   "source": [
    "import numpy as np  # linear algebra\n",
    "import pandas as pd  # data processing, CSV file I/O (e.g. pd.read_csv)\n",
    "import os\n",
    "\n",
    "for dirname, _, filenames in os.walk('/kaggle/input'):\n",
    "    for filename in filenames:\n",
    "        print(os.path.join(dirname, filename))\n",
    "df = pd.read_csv(\"SignList_ClassId_TR_EN.csv\", encoding='unicode_escape')\n",
    "\n",
    "df.head()\n",
    "\n"
   ]
  }
 ],
 "metadata": {
  "kernelspec": {
   "display_name": "Python 3",
   "language": "python",
   "name": "python3"
  },
  "language_info": {
   "codemirror_mode": {
    "name": "ipython",
    "version": 2
   },
   "file_extension": ".py",
   "mimetype": "text/x-python",
   "name": "python",
   "nbconvert_exporter": "python",
   "pygments_lexer": "ipython2",
   "version": "2.7.6"
  }
 },
 "nbformat": 4,
 "nbformat_minor": 0
}
